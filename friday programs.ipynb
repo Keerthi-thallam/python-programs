{
 "cells": [
  {
   "cell_type": "code",
   "execution_count": 1,
   "id": "4efc6823-f5e1-44d2-8058-7068d6bccf8a",
   "metadata": {},
   "outputs": [
    {
     "name": "stdout",
     "output_type": "stream",
     "text": [
      "hi\n"
     ]
    }
   ],
   "source": [
    "print(\"hi\")"
   ]
  },
  {
   "cell_type": "code",
   "execution_count": 7,
   "id": "f4aedecb-2ca9-40c7-8cea-4ae434af5831",
   "metadata": {},
   "outputs": [
    {
     "name": "stdout",
     "output_type": "stream",
     "text": [
      "s r u j a n a "
     ]
    }
   ],
   "source": [
    "# simple for loop (string)\n",
    "str='srujana'\n",
    "for i in str:\n",
    "    print(i, end=' ')"
   ]
  },
  {
   "cell_type": "code",
   "execution_count": 9,
   "id": "24e608f1-59bd-49be-b3f7-262d15e9a860",
   "metadata": {},
   "outputs": [
    {
     "name": "stdout",
     "output_type": "stream",
     "text": [
      "cat\n",
      "dog\n",
      "fish\n"
     ]
    }
   ],
   "source": [
    "# list of strings\n",
    "s=['cat','dog','fish']\n",
    "for pet in s:\n",
    "    print(pet)"
   ]
  },
  {
   "cell_type": "code",
   "execution_count": 21,
   "id": "e2f53937-3ad4-49b8-bccf-2424b2f9e492",
   "metadata": {},
   "outputs": [
    {
     "name": "stdin",
     "output_type": "stream",
     "text": [
      "enter the value of n 15\n"
     ]
    },
    {
     "name": "stdout",
     "output_type": "stream",
     "text": [
      "21 20 19 18 17 "
     ]
    }
   ],
   "source": [
    "#for with-in range \n",
    "n=int(input(\"enter the value of n\"))\n",
    "for i in range(21,n+1,-1):\n",
    "    print(i,end=' ')\n"
   ]
  },
  {
   "cell_type": "code",
   "execution_count": 25,
   "id": "8757a67a-2f7e-4166-8f16-dad13ba61aab",
   "metadata": {},
   "outputs": [
    {
     "name": "stdin",
     "output_type": "stream",
     "text": [
      "enter a number 10\n"
     ]
    },
    {
     "name": "stdout",
     "output_type": "stream",
     "text": [
      "1 2 3 4 5 6 7 8 9 10 10 8 6 4 2 "
     ]
    }
   ],
   "source": [
    "n=int(input(\"enter a number\"))\n",
    "for i in range(1,n+1):\n",
    "    print(i,end=' ')\n",
    "for i in range(n, 0, -2):\n",
    "    print(i, end=' ')"
   ]
  },
  {
   "cell_type": "code",
   "execution_count": 44,
   "id": "6c85c11c-6e53-4b58-8335-1992dfde01bf",
   "metadata": {},
   "outputs": [
    {
     "name": "stdin",
     "output_type": "stream",
     "text": [
      "enter any number 12\n"
     ]
    },
    {
     "name": "stdout",
     "output_type": "stream",
     "text": [
      "Multiplication table of 12\n",
      "***************************\n"
     ]
    },
    {
     "name": "stdin",
     "output_type": "stream",
     "text": [
      "enter a number of u need 15\n"
     ]
    },
    {
     "name": "stdout",
     "output_type": "stream",
     "text": [
      "12 X 0 = 0\n",
      "12 X 1 = 12\n",
      "12 X 2 = 24\n",
      "12 X 3 = 36\n",
      "12 X 4 = 48\n",
      "12 X 5 = 60\n",
      "12 X 6 = 72\n",
      "12 X 7 = 84\n",
      "12 X 8 = 96\n",
      "12 X 9 = 108\n",
      "12 X 10 = 120\n",
      "12 X 11 = 132\n",
      "12 X 12 = 144\n",
      "12 X 13 = 156\n",
      "12 X 14 = 168\n",
      "12 X 15 = 180\n"
     ]
    }
   ],
   "source": [
    "'''code for printing multiplication table of n, where n is entered by the user\n",
    "input:\n",
    "enter any number:2\n",
    "output:\n",
    "multiplication table of 2\n",
    "*************************'''\n",
    "n=int(input(\"enter any number\"))\n",
    "print(\"Multiplication table of\",n)\n",
    "print(\"***************************\")\n",
    "s=int(input(\"enter a number of u need\"))\n",
    "for i in range(0,s+1):\n",
    "    res=n*i\n",
    "    print(n,\"X\",i,\"=\",res)\n",
    "\n",
    "      \n"
   ]
  },
  {
   "cell_type": "code",
   "execution_count": 46,
   "id": "5db279aa-2a9e-4b94-b87b-33d7511491d4",
   "metadata": {},
   "outputs": [
    {
     "name": "stdin",
     "output_type": "stream",
     "text": [
      "enter the starting year: 1900\n",
      "enter the ending year: 2101\n"
     ]
    },
    {
     "name": "stdout",
     "output_type": "stream",
     "text": [
      "1900 1904 1908 1912 1916 1920 1924 1928 1932 1936 1940 1944 1948 1952 1956 1960 1964 1968 1972 1976 1980 1984 1988 1992 1996 2000 2004 2008 2012 2016 2020 2024 2028 2032 2036 2040 2044 2048 2052 2056 2060 2064 2068 2072 2076 2080 2084 2088 2092 2096 2100 "
     ]
    }
   ],
   "source": [
    "#program to display all the leap years from 1900,2101\n",
    "n=int(input(\"enter the starting year:\"))\n",
    "s=int(input(\"enter the ending year:\"))\n",
    "for i in range(n,s+1):\n",
    "    if i%4==0:\n",
    "        print(i, end=' ')\n",
    "\n",
    "\n"
   ]
  },
  {
   "cell_type": "code",
   "execution_count": 62,
   "id": "9741a452-49b6-4921-90f6-dae24fb379f5",
   "metadata": {},
   "outputs": [
    {
     "name": "stdin",
     "output_type": "stream",
     "text": [
      "enter a number 5\n"
     ]
    },
    {
     "name": "stdout",
     "output_type": "stream",
     "text": [
      "1.4636111111111112\n"
     ]
    }
   ],
   "source": [
    "n=int(input(\"enter a number\"))\n",
    "s=0\n",
    "for i in range(1,n+1):\n",
    "    a=1/(i**2)\n",
    "    s=s+a\n",
    "print(s)\n"
   ]
  },
  {
   "cell_type": "code",
   "execution_count": 76,
   "id": "26cc4048-730a-4398-b905-1d4c7fc78ccf",
   "metadata": {},
   "outputs": [
    {
     "name": "stdout",
     "output_type": "stream",
     "text": [
      "Sun Mon Tue Wed Thu Fri Sat\n",
      "        1   2   3   4   5 \n",
      "  6   7   8   9  10  11  12 \n",
      " 13  14  15  16  17  18  19 \n",
      " 20  21  22  23  24  25  26 \n",
      " 27  28  29  30  31 "
     ]
    }
   ],
   "source": [
    "'''generating calendar manually'''\n",
    "mdays=31\n",
    "sday=2\n",
    "\n",
    "print(\"Sun Mon Tue Wed Thu Fri Sat\")\n",
    "for _ in range(sday):\n",
    "    print(\"  \", end=' ')\n",
    "for days in range(1, mdays+1):\n",
    "    print(f\"{days: >3} \",end='')\n",
    "    if(sday+days) %7 ==0:\n",
    "        print()"
   ]
  },
  {
   "cell_type": "code",
   "execution_count": null,
   "id": "b58b54e7-2229-4fd9-ac48-ee00dc8dc080",
   "metadata": {},
   "outputs": [],
   "source": []
  }
 ],
 "metadata": {
  "kernelspec": {
   "display_name": "Python 3 (ipykernel)",
   "language": "python",
   "name": "python3"
  },
  "language_info": {
   "codemirror_mode": {
    "name": "ipython",
    "version": 3
   },
   "file_extension": ".py",
   "mimetype": "text/x-python",
   "name": "python",
   "nbconvert_exporter": "python",
   "pygments_lexer": "ipython3",
   "version": "3.12.7"
  }
 },
 "nbformat": 4,
 "nbformat_minor": 5
}
